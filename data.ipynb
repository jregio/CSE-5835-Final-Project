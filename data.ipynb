{
  "cells": [
    {
      "cell_type": "markdown",
      "metadata": {
        "id": "view-in-github",
        "colab_type": "text"
      },
      "source": [
        "<a href=\"https://colab.research.google.com/github/jregio/CSE-5835-Final-Project/blob/main/data.ipynb\" target=\"_parent\"><img src=\"https://colab.research.google.com/assets/colab-badge.svg\" alt=\"Open In Colab\"/></a>"
      ]
    },
    {
      "cell_type": "code",
      "execution_count": null,
      "metadata": {
        "id": "Ms_HKRfN4rRO"
      },
      "outputs": [],
      "source": [
        "!pip install chembl_webresource_client\n",
        "!pip install rdkit\n",
        "!pip install scikit-learn"
      ]
    },
    {
      "cell_type": "code",
      "execution_count": null,
      "metadata": {
        "id": "e6_dKeEG3rrK"
      },
      "outputs": [],
      "source": [
        "# connect notebook to Google Drive\n",
        "from google.colab import drive\n",
        "drive.mount('/content/drive')\n",
        "%cd /content/drive/MyDrive/CSE5835"
      ]
    },
    {
      "cell_type": "code",
      "execution_count": null,
      "metadata": {
        "colab": {
          "background_save": true
        },
        "id": "E6KkiRp55VuR"
      },
      "outputs": [],
      "source": [
        "import pandas as pd\n",
        "from chembl_webresource_client.new_client import new_client\n",
        "\n",
        "# search for potency values for the target CHEMBL364 (Plasmodium falciparum)\n",
        "activity = new_client.activity\n",
        "activity_query = activity.filter(target_chembl_id=\"CHEMBL364\").filter(standard_type=\"Potency\")\n",
        "\n",
        "# keep only the SMILES string and potency value\n",
        "df_pot = pd.DataFrame.from_dict(activity_query)[['canonical_smiles', 'standard_value']].dropna().reset_index()\n",
        "df_pot.to_pickle('df_pot.pkl')"
      ]
    },
    {
      "cell_type": "code",
      "execution_count": null,
      "metadata": {
        "colab": {
          "background_save": true
        },
        "id": "JG6UGYtvEaPo"
      },
      "outputs": [],
      "source": [
        "from rdkit import Chem\n",
        "from rdkit.Chem import AllChem\n",
        "\n",
        "# molecular fingerprint settings\n",
        "radius=3\n",
        "nBits=1024\n",
        "\n",
        "# convert SMILES string into molecular fingerprint\n",
        "fp = [AllChem.GetMorganFingerprintAsBitVect(Chem.MolFromSmiles(s),radius=radius, nBits=nBits) for s in df_pot['canonical_smiles']]\n",
        "df_fp = pd.DataFrame([list(l) for l in fp], columns=['Bit ' + str(i) for i in range(nBits)])\n",
        "df_fp.to_pickle('df_fp.pkl')"
      ]
    }
  ],
  "metadata": {
    "colab": {
      "provenance": [],
      "authorship_tag": "ABX9TyOM6v3moByinwD55EoPD2zM",
      "include_colab_link": true
    },
    "kernelspec": {
      "display_name": "Python 3",
      "name": "python3"
    },
    "language_info": {
      "name": "python"
    }
  },
  "nbformat": 4,
  "nbformat_minor": 0
}