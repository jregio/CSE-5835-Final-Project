{
  "cells": [
    {
      "cell_type": "markdown",
      "metadata": {
        "id": "view-in-github",
        "colab_type": "text"
      },
      "source": [
        "<a href=\"https://colab.research.google.com/github/jregio/CSE-5835-Final-Project/blob/main/model.ipynb\" target=\"_parent\"><img src=\"https://colab.research.google.com/assets/colab-badge.svg\" alt=\"Open In Colab\"/></a>"
      ]
    },
    {
      "cell_type": "code",
      "execution_count": null,
      "metadata": {
        "id": "B27Q47qv2nFm"
      },
      "outputs": [],
      "source": [
        "!pip install keras-tuner --upgrade"
      ]
    },
    {
      "cell_type": "code",
      "execution_count": 41,
      "metadata": {
        "id": "eNe4BavupQsv",
        "colab": {
          "base_uri": "https://localhost:8080/"
        },
        "outputId": "0ba9bbda-3b33-4a08-d116-ca05b51b9822"
      },
      "outputs": [
        {
          "output_type": "stream",
          "name": "stdout",
          "text": [
            "Drive already mounted at /content/drive; to attempt to forcibly remount, call drive.mount(\"/content/drive\", force_remount=True).\n",
            "/content/drive/MyDrive/CSE5835\n"
          ]
        }
      ],
      "source": [
        "# connect notebook to Google Drive\n",
        "from google.colab import drive\n",
        "drive.mount('/content/drive')\n",
        "%cd /content/drive/MyDrive/CSE5835"
      ]
    },
    {
      "cell_type": "code",
      "execution_count": 42,
      "metadata": {
        "id": "_SwSAeN358jy"
      },
      "outputs": [],
      "source": [
        "import pandas as pd\n",
        "\n",
        "# split dataframe into features (fingerprint) and target variable (potency)\n",
        "def splitXY(fileName):\n",
        "  X = pd.read_pickle(fileName)\n",
        "  y = pd.to_numeric(X['standard_value'])\n",
        "  X.drop('standard_value', axis=1, inplace=True)\n",
        "\n",
        "  return X, y"
      ]
    },
    {
      "cell_type": "code",
      "execution_count": 43,
      "metadata": {
        "id": "6NZwnSnrunBG"
      },
      "outputs": [],
      "source": [
        "X_train, y_train = splitXY('train_df.pkl')\n",
        "X_dev, y_dev = splitXY('dev_df.pkl')\n",
        "X_test, y_test = splitXY('test_df.pkl')"
      ]
    },
    {
      "cell_type": "code",
      "execution_count": 44,
      "metadata": {
        "id": "Jl5fogIXpuap"
      },
      "outputs": [],
      "source": [
        "import tensorflow as tf\n",
        "from tensorflow import keras\n",
        "\n",
        "# wrapper function for model tuning\n",
        "def createModel(hp):\n",
        "  # hypperparameters for tuning\n",
        "  hp_units = hp.Int('units', min_value=128, max_value=1024, step=128)\n",
        "  hp_rate = hp.Choice('rate', [0.0, 0.01, 0.03, 0.06, 0.1, 0.3, 0.6, 0.9])\n",
        "  hp_layers = hp.Int('layers', min_value = 1, max_value = 9, step = 1)\n",
        "  hp_l2 = hp.Choice('lambda', [0.0, 0.0001, 0.0003, 0.001, 0.003, 0.01, 0.03, 0.1, 0.3, 1.0])\n",
        "\n",
        "  # model architecture\n",
        "  model = keras.Sequential()\n",
        "  model.add(keras.layers.Dense(units=hp_units, input_shape=(1024,)))\n",
        "  for i in range(hp_layers):\n",
        "      model.add(keras.layers.Dense(units=hp_units, kernel_regularizer=keras.regularizers.L2(hp_l2))),\n",
        "      model.add(keras.layers.Dropout(rate=hp_rate))\n",
        "  model.add(keras.layers.Dense(units=1))\n",
        "\n",
        "  # model optimization\n",
        "  model.compile(optimizer='adam',\n",
        "                loss=tf.losses.MeanSquaredError(),\n",
        "                metrics=[tf.keras.metrics.RootMeanSquaredError()])\n",
        "\n",
        "  return model"
      ]
    },
    {
      "cell_type": "code",
      "execution_count": 45,
      "metadata": {
        "id": "3zQKe_5Jq5bp"
      },
      "outputs": [],
      "source": [
        "import keras_tuner\n",
        "\n",
        "# use Bayesian Optimization to find the best hyperparameters\n",
        "tuner = keras_tuner.BayesianOptimization(createModel, max_trials = 100,  objective='val_loss')\n",
        "tuner.search(X_train, y_train, validation_data=(X_dev, y_dev))\n",
        "bestModel = tuner.get_best_models()[0]"
      ]
    },
    {
      "cell_type": "code",
      "source": [
        "def evaluateModel(model, X, y):\n",
        "  print(\"RMSE:\\t \", model.evaluate(X, y, verbose=False)[1])\n",
        "  print(\"STD:\\t \", y_test.std())"
      ],
      "metadata": {
        "id": "094KjQhWKOlI"
      },
      "execution_count": 46,
      "outputs": []
    },
    {
      "cell_type": "code",
      "source": [
        "evaluateModel(bestModel, X_test, y_test)"
      ],
      "metadata": {
        "colab": {
          "base_uri": "https://localhost:8080/"
        },
        "id": "qRJCiqU0Nzx2",
        "outputId": "a7d691e6-5e3f-426d-985f-4105b28c252c"
      },
      "execution_count": 47,
      "outputs": [
        {
          "output_type": "stream",
          "name": "stdout",
          "text": [
            "RMSE:\t  2.4562740325927734\n",
            "STD:\t  2.456186910349606\n"
          ]
        }
      ]
    },
    {
      "cell_type": "code",
      "source": [
        "# RESULTS:\n",
        "# - model evaluation shows that RMSE is approximately the std dev of test data\n",
        "# - thus, the model DID NOT learn anything meaningful\n",
        "# - the best model had a very high dropout rate"
      ],
      "metadata": {
        "id": "nvQy39ynOTi1"
      },
      "execution_count": 48,
      "outputs": []
    },
    {
      "cell_type": "code",
      "source": [
        "best_hp = tuner.get_best_hyperparameters()[0]\n",
        "print(\"Units:\\t\", best_hp.get('units'))\n",
        "print(\"Rate:\\t\", best_hp.get('rate'))\n",
        "print(\"Layers:\\t\", best_hp.get('layers'))\n",
        "print(\"Lambda:\\t\", best_hp.get('lambda'))"
      ],
      "metadata": {
        "colab": {
          "base_uri": "https://localhost:8080/"
        },
        "id": "rdWh52uYuFBj",
        "outputId": "0fc3f92a-f942-40d9-c323-4b5f9a4159ab"
      },
      "execution_count": 49,
      "outputs": [
        {
          "output_type": "stream",
          "name": "stdout",
          "text": [
            "Units:\t 128\n",
            "Rate:\t 0.9\n",
            "Layers:\t 5\n",
            "Lambda:\t 0.0\n"
          ]
        }
      ]
    }
  ],
  "metadata": {
    "colab": {
      "provenance": [],
      "authorship_tag": "ABX9TyPbAMYygnuaFIjxsI4fSz6T",
      "include_colab_link": true
    },
    "kernelspec": {
      "display_name": "Python 3",
      "name": "python3"
    },
    "language_info": {
      "name": "python"
    }
  },
  "nbformat": 4,
  "nbformat_minor": 0
}